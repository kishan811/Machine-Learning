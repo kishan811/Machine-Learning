{
 "cells": [
  {
   "cell_type": "markdown",
   "metadata": {},
   "source": [
    "# Q1 "
   ]
  },
  {
   "cell_type": "markdown",
   "metadata": {},
   "source": [
    "## Part 1 - Dimensionality Reduction using AutoEncoders:-"
   ]
  },
  {
   "cell_type": "code",
   "execution_count": 6,
   "metadata": {},
   "outputs": [],
   "source": [
    "import numpy as np \n",
    "import pandas as pd\n",
    "import random\n",
    "import matplotlib.pyplot as plt  \n",
    "import csv\n",
    "import math\n",
    "import operator\n",
    "from numpy import linalg as LA\n",
    "import sys\n",
    "from sklearn.model_selection import train_test_split"
   ]
  },
  {
   "cell_type": "code",
   "execution_count": 7,
   "metadata": {},
   "outputs": [
    {
     "data": {
      "text/html": [
       "<div>\n",
       "<style scoped>\n",
       "    .dataframe tbody tr th:only-of-type {\n",
       "        vertical-align: middle;\n",
       "    }\n",
       "\n",
       "    .dataframe tbody tr th {\n",
       "        vertical-align: top;\n",
       "    }\n",
       "\n",
       "    .dataframe thead th {\n",
       "        text-align: right;\n",
       "    }\n",
       "</style>\n",
       "<table border=\"1\" class=\"dataframe\">\n",
       "  <thead>\n",
       "    <tr style=\"text-align: right;\">\n",
       "      <th></th>\n",
       "      <th>duration</th>\n",
       "      <th>service</th>\n",
       "      <th>src_bytes</th>\n",
       "      <th>dst_bytes</th>\n",
       "      <th>hot</th>\n",
       "      <th>num_failed_logins</th>\n",
       "      <th>num_compromised</th>\n",
       "      <th>num_root</th>\n",
       "      <th>num_file_creations</th>\n",
       "      <th>num_access_files</th>\n",
       "      <th>...</th>\n",
       "      <th>dst_host_count</th>\n",
       "      <th>dst_host_srv_count</th>\n",
       "      <th>dst_host_same_srv_rate</th>\n",
       "      <th>dst_host_diff_srv_rate</th>\n",
       "      <th>dst_host_same_src_port_rate</th>\n",
       "      <th>dst_host_srv_diff_host_rate</th>\n",
       "      <th>dst_host_serror_rate</th>\n",
       "      <th>dst_host_srv_serror_rate</th>\n",
       "      <th>dst_host_rerror_rate</th>\n",
       "      <th>dst_host_srv_rerror_rate</th>\n",
       "    </tr>\n",
       "  </thead>\n",
       "  <tbody>\n",
       "    <tr>\n",
       "      <th>0</th>\n",
       "      <td>0</td>\n",
       "      <td>25</td>\n",
       "      <td>193</td>\n",
       "      <td>441</td>\n",
       "      <td>0</td>\n",
       "      <td>0</td>\n",
       "      <td>0</td>\n",
       "      <td>0</td>\n",
       "      <td>0</td>\n",
       "      <td>0</td>\n",
       "      <td>...</td>\n",
       "      <td>15</td>\n",
       "      <td>255</td>\n",
       "      <td>1.00</td>\n",
       "      <td>0.00</td>\n",
       "      <td>0.07</td>\n",
       "      <td>0.04</td>\n",
       "      <td>0.00</td>\n",
       "      <td>0.04</td>\n",
       "      <td>0.0</td>\n",
       "      <td>0.0</td>\n",
       "    </tr>\n",
       "    <tr>\n",
       "      <th>1</th>\n",
       "      <td>0</td>\n",
       "      <td>38</td>\n",
       "      <td>0</td>\n",
       "      <td>0</td>\n",
       "      <td>0</td>\n",
       "      <td>0</td>\n",
       "      <td>0</td>\n",
       "      <td>0</td>\n",
       "      <td>0</td>\n",
       "      <td>0</td>\n",
       "      <td>...</td>\n",
       "      <td>255</td>\n",
       "      <td>1</td>\n",
       "      <td>0.00</td>\n",
       "      <td>0.07</td>\n",
       "      <td>0.00</td>\n",
       "      <td>0.00</td>\n",
       "      <td>0.00</td>\n",
       "      <td>0.00</td>\n",
       "      <td>1.0</td>\n",
       "      <td>1.0</td>\n",
       "    </tr>\n",
       "    <tr>\n",
       "      <th>2</th>\n",
       "      <td>0</td>\n",
       "      <td>25</td>\n",
       "      <td>167</td>\n",
       "      <td>9724</td>\n",
       "      <td>0</td>\n",
       "      <td>0</td>\n",
       "      <td>0</td>\n",
       "      <td>0</td>\n",
       "      <td>0</td>\n",
       "      <td>0</td>\n",
       "      <td>...</td>\n",
       "      <td>39</td>\n",
       "      <td>255</td>\n",
       "      <td>1.00</td>\n",
       "      <td>0.00</td>\n",
       "      <td>0.03</td>\n",
       "      <td>0.06</td>\n",
       "      <td>0.00</td>\n",
       "      <td>0.00</td>\n",
       "      <td>0.0</td>\n",
       "      <td>0.0</td>\n",
       "    </tr>\n",
       "    <tr>\n",
       "      <th>3</th>\n",
       "      <td>0</td>\n",
       "      <td>20</td>\n",
       "      <td>1339</td>\n",
       "      <td>0</td>\n",
       "      <td>0</td>\n",
       "      <td>0</td>\n",
       "      <td>0</td>\n",
       "      <td>0</td>\n",
       "      <td>0</td>\n",
       "      <td>0</td>\n",
       "      <td>...</td>\n",
       "      <td>134</td>\n",
       "      <td>31</td>\n",
       "      <td>0.23</td>\n",
       "      <td>0.04</td>\n",
       "      <td>0.23</td>\n",
       "      <td>0.00</td>\n",
       "      <td>0.02</td>\n",
       "      <td>0.00</td>\n",
       "      <td>0.0</td>\n",
       "      <td>0.0</td>\n",
       "    </tr>\n",
       "    <tr>\n",
       "      <th>4</th>\n",
       "      <td>0</td>\n",
       "      <td>37</td>\n",
       "      <td>0</td>\n",
       "      <td>0</td>\n",
       "      <td>0</td>\n",
       "      <td>0</td>\n",
       "      <td>0</td>\n",
       "      <td>0</td>\n",
       "      <td>0</td>\n",
       "      <td>0</td>\n",
       "      <td>...</td>\n",
       "      <td>255</td>\n",
       "      <td>25</td>\n",
       "      <td>0.10</td>\n",
       "      <td>0.05</td>\n",
       "      <td>0.00</td>\n",
       "      <td>0.00</td>\n",
       "      <td>1.00</td>\n",
       "      <td>1.00</td>\n",
       "      <td>0.0</td>\n",
       "      <td>0.0</td>\n",
       "    </tr>\n",
       "  </tbody>\n",
       "</table>\n",
       "<p>5 rows × 29 columns</p>\n",
       "</div>"
      ],
      "text/plain": [
       "   duration  service  src_bytes  dst_bytes  hot  num_failed_logins  \\\n",
       "0         0       25        193        441    0                  0   \n",
       "1         0       38          0          0    0                  0   \n",
       "2         0       25        167       9724    0                  0   \n",
       "3         0       20       1339          0    0                  0   \n",
       "4         0       37          0          0    0                  0   \n",
       "\n",
       "   num_compromised  num_root  num_file_creations  num_access_files  ...  \\\n",
       "0                0         0                   0                 0  ...   \n",
       "1                0         0                   0                 0  ...   \n",
       "2                0         0                   0                 0  ...   \n",
       "3                0         0                   0                 0  ...   \n",
       "4                0         0                   0                 0  ...   \n",
       "\n",
       "   dst_host_count  dst_host_srv_count  dst_host_same_srv_rate  \\\n",
       "0              15                 255                    1.00   \n",
       "1             255                   1                    0.00   \n",
       "2              39                 255                    1.00   \n",
       "3             134                  31                    0.23   \n",
       "4             255                  25                    0.10   \n",
       "\n",
       "   dst_host_diff_srv_rate  dst_host_same_src_port_rate  \\\n",
       "0                    0.00                         0.07   \n",
       "1                    0.07                         0.00   \n",
       "2                    0.00                         0.03   \n",
       "3                    0.04                         0.23   \n",
       "4                    0.05                         0.00   \n",
       "\n",
       "   dst_host_srv_diff_host_rate  dst_host_serror_rate  \\\n",
       "0                         0.04                  0.00   \n",
       "1                         0.00                  0.00   \n",
       "2                         0.06                  0.00   \n",
       "3                         0.00                  0.02   \n",
       "4                         0.00                  1.00   \n",
       "\n",
       "   dst_host_srv_serror_rate  dst_host_rerror_rate  dst_host_srv_rerror_rate  \n",
       "0                      0.04                   0.0                       0.0  \n",
       "1                      0.00                   1.0                       1.0  \n",
       "2                      0.00                   0.0                       0.0  \n",
       "3                      0.00                   0.0                       0.0  \n",
       "4                      1.00                   0.0                       0.0  \n",
       "\n",
       "[5 rows x 29 columns]"
      ]
     },
     "execution_count": 7,
     "metadata": {},
     "output_type": "execute_result"
    }
   ],
   "source": [
    "df = pd.read_csv('intrusion_detection/data1.csv') \n",
    "label=df['xAttack']\n",
    "df1=df.drop(['xAttack'],axis=1)\n",
    "df1.head()"
   ]
  },
  {
   "cell_type": "code",
   "execution_count": 8,
   "metadata": {},
   "outputs": [
    {
     "data": {
      "text/plain": [
       "(24998, 29)"
      ]
     },
     "execution_count": 8,
     "metadata": {},
     "output_type": "execute_result"
    }
   ],
   "source": [
    "M=np.mean(df1)\n",
    "SD=np.std(df1)\n",
    "df1=(df1-M)/SD\n",
    "# df1.head()\n",
    "df1.shape"
   ]
  },
  {
   "cell_type": "code",
   "execution_count": 9,
   "metadata": {},
   "outputs": [
    {
     "data": {
      "text/plain": [
       "(100, 29)"
      ]
     },
     "execution_count": 9,
     "metadata": {},
     "output_type": "execute_result"
    }
   ],
   "source": [
    "ds=df1.head(100)\n",
    "ds.shape"
   ]
  },
  {
   "cell_type": "code",
   "execution_count": 10,
   "metadata": {},
   "outputs": [],
   "source": [
    "# ds=df1.head(1000)"
   ]
  },
  {
   "cell_type": "code",
   "execution_count": 11,
   "metadata": {},
   "outputs": [
    {
     "data": {
      "text/plain": [
       "(100, 29)"
      ]
     },
     "execution_count": 11,
     "metadata": {},
     "output_type": "execute_result"
    }
   ],
   "source": [
    "instances = ds.shape[0]  \n",
    "attributes = ds.shape[1] \n",
    "# samples=test1.shape[0]\n",
    "# samples\n",
    "ds.shape"
   ]
  },
  {
   "cell_type": "code",
   "execution_count": 12,
   "metadata": {},
   "outputs": [],
   "source": [
    "class layer:\n",
    "    def __init__(self, NodesInLayer, ListOfNodeCounts, Activation_function):\n",
    "        self.NodesInLayer = NodesInLayer\n",
    "        self.Activation_function = Activation_function\n",
    "        self.activations = np.zeros([NodesInLayer,1])\n",
    "        if ListOfNodeCounts != 0:\n",
    "            self.Layerwise_weights = np.random.normal(0, 1, size=(NodesInLayer, ListOfNodeCounts))\n",
    "            self.Layerwise_bias = np.random.normal(0, 1, size=(1, ListOfNodeCounts))\n",
    "        else:\n",
    "            self.Layerwise_weights = None\n",
    "            self.Layerwise_bias = None"
   ]
  },
  {
   "cell_type": "code",
   "execution_count": 13,
   "metadata": {},
   "outputs": [],
   "source": [
    "    def relu(x):\n",
    "        x[x < 0] = 0\n",
    "        return x\n",
    "    \n",
    "    def RELU_derivative(x):\n",
    "        x[x<=0] = 0\n",
    "        x[x>0] = 1\n",
    "        return x\n",
    "    \n",
    "    def linear(x):\n",
    "        return x\n",
    "    \n",
    "    def derlinear(x):\n",
    "        return 1\n",
    "    \n",
    "    def sigmoid(x):  \n",
    "        return 1/(1+np.exp(-x))\n",
    "\n",
    "    def sigmoid_derivative(x):  \n",
    "        return sigmoid(x) *(1-sigmoid (x))\n",
    "    \n",
    "    def tanh(x):\n",
    "        return np.tanh(x)\n",
    "    \n",
    "    def tanh_derivative(x):\n",
    "        return 1.0 - np.tanh(x)**2\n",
    "    \n",
    "    def softmax(A):  \n",
    "        expA = np.exp(A)\n",
    "        return expA / expA.sum(axis=1, keepdims=True)"
   ]
  },
  {
   "cell_type": "code",
   "execution_count": 14,
   "metadata": {},
   "outputs": [],
   "source": [
    "class Neural_Net:\n",
    "    def __init__(self, Layer_count, Node_count, Activation_function, Error_calc_function, Type_Activation_func):\n",
    "        self.Layer_count = Layer_count\n",
    "        self.Node_count = Node_count\n",
    "        self.layers = []\n",
    "        self.error = 0\n",
    "        self.lr = 0.0001\n",
    "        self.Error_calc_function = Error_calc_function\n",
    "        self.Type_Activation_func = Type_Activation_func\n",
    "\n",
    "        if not Layer_count == len(Node_count):\n",
    "            raise ValueError(\"Number of layers must match number node counts...!\")\n",
    "\n",
    "        for i in range(Layer_count):\n",
    "            if i != Layer_count-1:\n",
    "                layer_i = layer(Node_count[i], Node_count[i+1], Activation_function[i])\n",
    "            else:\n",
    "                layer_i = layer(Node_count[i], 0, Activation_function[i])\n",
    "            self.layers.append(layer_i) \n",
    "    \n",
    "    def calculate_error(self,one_hot_data):\n",
    "        if self.Error_calc_function == \"mean_squared\":\n",
    "            self.error = np.mean(np.divide(np.square(np.subtract(one_hot_data, self.layers[self.Layer_count-1].activations)), 2))\n",
    "#             print(self.error)\n",
    "        elif self.Error_calc_function == \"cross_entropy\":\n",
    "            self.error = np.sum(-one_hot_data * np.log(self.layers[-1].activations))\n",
    "#             print(self.error)\n",
    "    \n",
    "            \n",
    "    def forward_propagation(self, dataset):\n",
    "        self.layers[0].activations = dataset\n",
    "        for i in range(self.Layer_count-1):\n",
    "            temp = np.add(np.dot(self.layers[i].activations, self.layers[i].Layerwise_weights), self.layers[i].Layerwise_bias)\n",
    "            if self.layers[i+1].Activation_function == \"sigmoid\":\n",
    "                self.layers[i+1].activations = sigmoid(temp)\n",
    "            elif self.layers[i+1].Activation_function == \"softmax\":\n",
    "                self.layers[i+1].activations = softmax(temp)\n",
    "            elif self.layers[i+1].Activation_function == \"relu\":\n",
    "                self.layers[i+1].activations = relu(temp)\n",
    "            elif self.layers[i+1].Activation_function == \"tanh\":\n",
    "                self.layers[i+1].activations = tanh(temp)\n",
    "            elif self.layers[i+1].Activation_function == \"linear\":\n",
    "                self.layers[i+1].activations = linear(temp)\n",
    "            else:\n",
    "                self.layers[i+1].activations = temp\n",
    "#             print(self.layers[i+1].activations.shape)\n",
    "                \n",
    "        \n",
    "    def backward_propagation(self,one_hot_data):\n",
    "        i = self.Layer_count-1\n",
    "        dA_dZ=0\n",
    "        if self.Type_Activation_func == \"NonLinear_Activation\":\n",
    "#             dError_dZ=self.layers[i].activations-one_hot_data\n",
    "            dError_dZ=self.layers[i].activations*(1-self.layers[i].activations)*(self.layers[i].activations-one_hot_data)\n",
    "        elif self.Type_Activation_func == \"Linear_Activation\":\n",
    "            dError_dZ=self.layers[i].activations-one_hot_data\n",
    "        #         print('dError_dZ',dError_dZ.shape)\n",
    "        dZ_dW=self.layers[i-1].activations\n",
    "#         print('dZ_dW',dZ_dW.shape)\n",
    "        dError_dW=np.dot(dZ_dW.T, dError_dZ)\n",
    "#         print('dError_dW',dError_dW.shape)\n",
    "        dE_dB=dError_dZ\n",
    "#         print('dE_dB',dE_dB.shape)\n",
    "\n",
    "        self.layers[i-1].Layerwise_weights -= self.lr * dError_dW\n",
    "#         print(self.layers[i-1].Layerwise_bias.shape)\n",
    "#         print('dE_dB',dE_dB.sum)\n",
    "        self.layers[i-1].Layerwise_bias -= self.lr * dE_dB.sum(axis=0)\n",
    "        \n",
    "        \n",
    "        for i in range(i-1,0,-1):\n",
    "            dZ_dA=self.layers[i].Layerwise_weights\n",
    "#             print('dZ_dA',dZ_dA)\n",
    "            dE_dA=np.dot(dError_dZ,dZ_dA.T)\n",
    "#             print('dE_dA',dE_dA)\n",
    "            temp = np.add(np.dot(self.layers[i-1].activations, self.layers[i-1].Layerwise_weights), self.layers[i-1].Layerwise_bias)\n",
    "            if self.layers[i].Activation_function == \"sigmoid\":\n",
    "                dA_dZ=sigmoid_derivative(temp)\n",
    "#                 print('dA_dZ',dA_dZ)\n",
    "            if self.layers[i].Activation_function == \"relu\":\n",
    "                dA_dZ=RELU_derivative(temp)\n",
    "#                 print('dA_dZ',dA_dZ)\n",
    "            if self.layers[i].Activation_function == \"tanh\":\n",
    "                dA_dZ=tanh_derivative(temp)\n",
    "#             if self.layers[i].Activation_function == \"tanh\":\n",
    "#                 dA_dZ=tanh_derivative(temp)\n",
    "            if self.layers[i].Activation_function == \"linear\":\n",
    "                dA_dZ=derlinear(temp)\n",
    "#                 print('dA_dZ',dA_dZ)\n",
    "\n",
    "            dZ_dW=self.layers[i-1].activations\n",
    "#             print('dZ_dW',dZ_dW)\n",
    "            dError_dW=np.dot(dZ_dW.T,(dA_dZ*dE_dA))\n",
    "#             print('dError_dW',dError_dW)\n",
    "            dE_dB = dE_dA*dA_dZ\n",
    "#             print('dE_dB',dE_dB)\n",
    "            dError_dZ=dE_dB\n",
    "#             print('dError_dZ',dError_dZ)\n",
    "    \n",
    "            self.layers[i-1].Layerwise_weights -= self.lr * dError_dW\n",
    "            self.layers[i-1].Layerwise_bias -= self.lr * dE_dB.sum(axis=0)\n",
    "                    \n",
    "    def train_Neural_net(self, dataset, num_epochs, lr):\n",
    "            self.lr = lr\n",
    "            self.error = 0\n",
    "            for j in range(num_epochs):\n",
    "                i = 0\n",
    "#                     print(\"Hi\")   \n",
    "                self.forward_propagation(dataset)\n",
    "                self.backward_propagation(dataset)\n",
    "                self.calculate_error(dataset)\n",
    "                print(\"Iter \"+str(j)+\" : \"+str(self.error))"
   ]
  },
  {
   "cell_type": "markdown",
   "metadata": {},
   "source": [
    "## a) 3-Layer Autoencoder with Non-Linear Activation Function:-"
   ]
  },
  {
   "cell_type": "code",
   "execution_count": 56,
   "metadata": {},
   "outputs": [],
   "source": [
    "neural_network=Neural_Net(3, [29,14,29], [None,\"sigmoid\",\"sigmoid\"],\"mean_squared\",\"NonLinear_Activation\")"
   ]
  },
  {
   "cell_type": "code",
   "execution_count": 57,
   "metadata": {},
   "outputs": [
    {
     "data": {
      "text/plain": [
       "(24998, 29)"
      ]
     },
     "execution_count": 57,
     "metadata": {},
     "output_type": "execute_result"
    }
   ],
   "source": [
    "df1.values.shape"
   ]
  },
  {
   "cell_type": "code",
   "execution_count": 58,
   "metadata": {},
   "outputs": [
    {
     "name": "stdout",
     "output_type": "stream",
     "text": [
      "Iter 0 : 0.700208488450213\n",
      "Iter 1 : 0.6017893358149514\n",
      "Iter 2 : 0.5396402609567573\n",
      "Iter 3 : 0.5013687055587711\n",
      "Iter 4 : 0.47808583769432456\n",
      "Iter 5 : 0.45959712356032295\n",
      "Iter 6 : 0.4470287611691351\n",
      "Iter 7 : 0.43796563973710967\n",
      "Iter 8 : 0.43089178317848065\n",
      "Iter 9 : 0.425235979416552\n",
      "Iter 10 : 0.42049069920362425\n",
      "Iter 11 : 0.41642059078595145\n",
      "Iter 12 : 0.4128782079480181\n",
      "Iter 13 : 0.40966537112909324\n",
      "Iter 14 : 0.4065264664760662\n",
      "Iter 15 : 0.4031143211476148\n",
      "Iter 16 : 0.39884757604383275\n",
      "Iter 17 : 0.39258748810174154\n",
      "Iter 18 : 0.3840595286551755\n",
      "Iter 19 : 0.3790224416177616\n",
      "Iter 20 : 0.37679372514198106\n",
      "Iter 21 : 0.3751432535567571\n",
      "Iter 22 : 0.3737442239335444\n",
      "Iter 23 : 0.37251150247150483\n",
      "Iter 24 : 0.3714016793503609\n",
      "Iter 25 : 0.37038349869481735\n",
      "Iter 26 : 0.3694394480299886\n",
      "Iter 27 : 0.3685565608518898\n",
      "Iter 28 : 0.3677208734723843\n",
      "Iter 29 : 0.36691119494514857\n",
      "Iter 30 : 0.36617406196616703\n",
      "Iter 31 : 0.365473878470673\n",
      "Iter 32 : 0.36480650892683664\n",
      "Iter 33 : 0.3641684319446774\n",
      "Iter 34 : 0.36355698774647327\n",
      "Iter 35 : 0.36297385099181656\n",
      "Iter 36 : 0.3624177886074894\n",
      "Iter 37 : 0.361884808368306\n",
      "Iter 38 : 0.36137280580132364\n",
      "Iter 39 : 0.36088018768452074\n",
      "Iter 40 : 0.3604055884479394\n",
      "Iter 41 : 0.3599478191569527\n",
      "Iter 42 : 0.3595057948927608\n",
      "Iter 43 : 0.3590784563151909\n",
      "Iter 44 : 0.358664788297478\n",
      "Iter 45 : 0.3582638327240916\n",
      "Iter 46 : 0.35787470598055177\n",
      "Iter 47 : 0.3574968176638992\n",
      "Iter 48 : 0.3571300978310889\n",
      "Iter 49 : 0.356774344762976\n",
      "Iter 50 : 0.35642879341585426\n",
      "Iter 51 : 0.35609252816046416\n",
      "Iter 52 : 0.3557641247833875\n",
      "Iter 53 : 0.3554352329463642\n",
      "Iter 54 : 0.3550951934933\n",
      "Iter 55 : 0.3547928186118202\n",
      "Iter 56 : 0.35449744375793285\n",
      "Iter 57 : 0.35420806167689645\n",
      "Iter 58 : 0.3539237669521251\n",
      "Iter 59 : 0.35364441935083973\n",
      "Iter 60 : 0.35336242356055403\n",
      "Iter 61 : 0.35308632307586524\n",
      "Iter 62 : 0.35283002302965927\n",
      "Iter 63 : 0.35258028429748045\n",
      "Iter 64 : 0.35233667854083034\n",
      "Iter 65 : 0.3520989612544656\n",
      "Iter 66 : 0.35186696182462335\n",
      "Iter 67 : 0.35164056428847484\n",
      "Iter 68 : 0.351419663287865\n",
      "Iter 69 : 0.35120414158852653\n",
      "Iter 70 : 0.3509938647169638\n",
      "Iter 71 : 0.3507886832306957\n",
      "Iter 72 : 0.3505884376068997\n",
      "Iter 73 : 0.35039296329747477\n",
      "Iter 74 : 0.3502020948477411\n",
      "Iter 75 : 0.35001566877531065\n",
      "Iter 76 : 0.3498335253371623\n",
      "Iter 77 : 0.34965550947446145\n",
      "Iter 78 : 0.349481471219611\n",
      "Iter 79 : 0.3493112657684822\n",
      "Iter 80 : 0.3491447533206043\n",
      "Iter 81 : 0.3489817986948159\n",
      "Iter 82 : 0.34882227063233184\n",
      "Iter 83 : 0.348666040572018\n",
      "Iter 84 : 0.34851298045807433\n",
      "Iter 85 : 0.3483629586971465\n",
      "Iter 86 : 0.34821583256232436\n",
      "Iter 87 : 0.3480714344550715\n",
      "Iter 88 : 0.34792955288260097\n",
      "Iter 89 : 0.3477899406878675\n",
      "Iter 90 : 0.3476524800278531\n",
      "Iter 91 : 0.347517488548719\n",
      "Iter 92 : 0.34738538555422876\n",
      "Iter 93 : 0.34725609251577577\n",
      "Iter 94 : 0.3471293176234257\n",
      "Iter 95 : 0.34700478904408005\n",
      "Iter 96 : 0.34688218776052415\n",
      "Iter 97 : 0.34676106021291375\n",
      "Iter 98 : 0.34664151330037357\n",
      "Iter 99 : 0.34652488792250574\n"
     ]
    }
   ],
   "source": [
    "neural_network.train_Neural_net(df1.values,100,0.0001)"
   ]
  },
  {
   "cell_type": "code",
   "execution_count": 60,
   "metadata": {},
   "outputs": [
    {
     "data": {
      "text/plain": [
       "0.34652488792250574"
      ]
     },
     "execution_count": 60,
     "metadata": {},
     "output_type": "execute_result"
    }
   ],
   "source": [
    "neural_network.error"
   ]
  },
  {
   "cell_type": "code",
   "execution_count": 61,
   "metadata": {},
   "outputs": [],
   "source": [
    "# df1[:1,:]"
   ]
  },
  {
   "cell_type": "code",
   "execution_count": 62,
   "metadata": {},
   "outputs": [],
   "source": [
    "# neural_network.layers[-1].activations[:1,:]"
   ]
  },
  {
   "cell_type": "code",
   "execution_count": 63,
   "metadata": {},
   "outputs": [],
   "source": [
    "neural_network.forward_propagation(df1)"
   ]
  },
  {
   "cell_type": "code",
   "execution_count": 64,
   "metadata": {},
   "outputs": [
    {
     "data": {
      "text/plain": [
       "(24998, 14)"
      ]
     },
     "execution_count": 64,
     "metadata": {},
     "output_type": "execute_result"
    }
   ],
   "source": [
    "ans=neural_network.layers[1].activations\n",
    "ans.shape"
   ]
  },
  {
   "cell_type": "code",
   "execution_count": 261,
   "metadata": {},
   "outputs": [],
   "source": [
    "k=5\n",
    "n = ans.shape[0]\n",
    "c = ans.shape[1]\n",
    "mean = np.mean(ans, axis = 0)\n",
    "std = np.std(ans, axis = 0)\n",
    "centers = np.random.randn(k,c)*std + mean\n",
    "# plt.scatter(centers[:,0], centers[:,1], marker='*', c='r', s=150)"
   ]
  },
  {
   "cell_type": "code",
   "execution_count": 262,
   "metadata": {},
   "outputs": [
    {
     "name": "stdout",
     "output_type": "stream",
     "text": [
      "[3 4 3 ... 1 0 2]\n"
     ]
    }
   ],
   "source": [
    "from copy import deepcopy\n",
    "co = np.zeros(centers.shape)\n",
    "cn = deepcopy(centers) \n",
    "# ans.shape\n",
    "clusters = np.zeros(n)\n",
    "distances = np.zeros((n,k))\n",
    "marg = LA.norm(cn - co)\n",
    "while marg != 0:\n",
    "    for i in range(k):\n",
    "        distances[:,i] = LA.norm(ans - cn[i], axis=1)\n",
    "    clusters = np.argmin(distances, axis = 1)\n",
    "    co = deepcopy(cn)\n",
    "    for i in range(k):\n",
    "        cn[i] = np.mean(ans[clusters == i], axis=0)\n",
    "    marg = LA.norm(cn - co)\n",
    "# centers_new   \n",
    "# plt.scatter(cn[:,0], cn[:,1], marker='*', c='r', s=150)\n",
    "print(clusters)"
   ]
  },
  {
   "cell_type": "code",
   "execution_count": 263,
   "metadata": {},
   "outputs": [
    {
     "data": {
      "text/plain": [
       "24998"
      ]
     },
     "execution_count": 263,
     "metadata": {},
     "output_type": "execute_result"
    }
   ],
   "source": [
    "kmlist=[]\n",
    "for i in range(len(label)):\n",
    "    if label[i]=='dos':\n",
    "        kmlist.append(0)\n",
    "    if label[i]=='normal':\n",
    "        kmlist.append(1)\n",
    "    if label[i]=='probe':\n",
    "        kmlist.append(2)\n",
    "    if label[i]=='r2l':\n",
    "        kmlist.append(3)\n",
    "    if label[i]=='u2r':\n",
    "        kmlist.append(4)\n",
    "len(kmlist)"
   ]
  },
  {
   "cell_type": "code",
   "execution_count": 264,
   "metadata": {},
   "outputs": [
    {
     "name": "stdout",
     "output_type": "stream",
     "text": [
      "Purity of Cluster - 0 :  39.261168384879724\n",
      "Purity of Cluster - 1 :  86.7147510469986\n",
      "Purity of Cluster - 2 :  98.79448075526507\n",
      "Purity of Cluster - 3 :  98.00711743772241\n",
      "Purity of Cluster - 4 :  45.600261694471705\n"
     ]
    }
   ],
   "source": [
    "from sklearn.metrics.cluster import contingency_matrix\n",
    "res=contingency_matrix(clusters,kmlist)\n",
    "# print(res)\n",
    "for i,item in enumerate(res):\n",
    "    print(\"Purity of Cluster -\",i,\": \",max(item)*100/sum(item))"
   ]
  },
  {
   "cell_type": "code",
   "execution_count": 265,
   "metadata": {},
   "outputs": [
    {
     "name": "stdout",
     "output_type": "stream",
     "text": [
      "K-means Purity: 0.8440275222017761\n"
     ]
    }
   ],
   "source": [
    "pure=0\n",
    "for i in res:\n",
    "    pure+=max(i)\n",
    "#     print(max(i))\n",
    "A1=pure/len(label)\n",
    "print('K-means Purity:', A1)"
   ]
  },
  {
   "cell_type": "code",
   "execution_count": 266,
   "metadata": {},
   "outputs": [
    {
     "data": {
      "text/plain": [
       "array([0, 1, 2, 3, 4])"
      ]
     },
     "execution_count": 266,
     "metadata": {},
     "output_type": "execute_result"
    }
   ],
   "source": [
    "from sklearn.mixture import GaussianMixture\n",
    "GMM=GaussianMixture(n_components=5).fit(ans)\n",
    "gmmlabel=GMM.predict(ans)\n",
    "np.unique(gmmlabel)"
   ]
  },
  {
   "cell_type": "code",
   "execution_count": 267,
   "metadata": {},
   "outputs": [
    {
     "name": "stdout",
     "output_type": "stream",
     "text": [
      "Purity of Cluster - 0 :  100.0\n",
      "Purity of Cluster - 1 :  91.84837302918484\n",
      "Purity of Cluster - 2 :  80.1819363222872\n",
      "Purity of Cluster - 3 :  52.86648711042709\n",
      "Purity of Cluster - 4 :  73.50604490500864\n"
     ]
    }
   ],
   "source": [
    "res1=contingency_matrix(gmmlabel,kmlist)\n",
    "# print(res1)\n",
    "for i,item in enumerate(res1):\n",
    "    print(\"Purity of Cluster -\",i,\": \",max(item)*100/sum(item))"
   ]
  },
  {
   "cell_type": "code",
   "execution_count": 268,
   "metadata": {},
   "outputs": [
    {
     "name": "stdout",
     "output_type": "stream",
     "text": [
      "GMM Purity: 0.8273061844947596\n"
     ]
    }
   ],
   "source": [
    "pure1=0\n",
    "for i in res1:\n",
    "    pure1+=max(i)\n",
    "#     print(max(i))\n",
    "A2=pure1/len(label)\n",
    "print('GMM Purity:', A2)"
   ]
  },
  {
   "cell_type": "code",
   "execution_count": 269,
   "metadata": {},
   "outputs": [
    {
     "data": {
      "text/plain": [
       "array([0, 1, 2, 3, 4])"
      ]
     },
     "execution_count": 269,
     "metadata": {},
     "output_type": "execute_result"
    }
   ],
   "source": [
    "from sklearn.cluster import AgglomerativeClustering\n",
    "cc=AgglomerativeClustering(n_clusters=5,affinity='euclidean',linkage='single')\n",
    "aclabel=cc.fit_predict(ans)\n",
    "np.unique(aclabel)"
   ]
  },
  {
   "cell_type": "code",
   "execution_count": 270,
   "metadata": {},
   "outputs": [
    {
     "name": "stdout",
     "output_type": "stream",
     "text": [
      "Purity of Cluster - 0 :  53.461738677772\n",
      "Purity of Cluster - 1 :  50.0\n",
      "Purity of Cluster - 2 :  100.0\n",
      "Purity of Cluster - 3 :  100.0\n",
      "Purity of Cluster - 4 :  100.0\n"
     ]
    }
   ],
   "source": [
    "res2=contingency_matrix(aclabel,kmlist)\n",
    "# print(res2)\n",
    "for i,item in enumerate(res2):\n",
    "    print(\"Purity of Cluster -\",i,\": \",max(item)*100/sum(item))"
   ]
  },
  {
   "cell_type": "code",
   "execution_count": 271,
   "metadata": {},
   "outputs": [
    {
     "name": "stdout",
     "output_type": "stream",
     "text": [
      "Hierarchical Purity: 0.5346427714217138\n"
     ]
    }
   ],
   "source": [
    "pure2=0\n",
    "for i in res2:\n",
    "    pure2+=max(i)\n",
    "#     print(max(i))\n",
    "A3=pure2/len(label)\n",
    "print('Hierarchical Purity:', A3)"
   ]
  },
  {
   "cell_type": "code",
   "execution_count": 272,
   "metadata": {},
   "outputs": [
    {
     "data": {
      "image/png": "[encoded data removed]",
      "text/plain": [
       "<Figure size 432x288 with 1 Axes>"
      ]
     },
     "metadata": {},
     "output_type": "display_data"
    }
   ],
   "source": [
    "import matplotlib.pyplot as plt\n",
    "slices_hours = [A1, A2, A3]\n",
    "activities = ['K-Means', 'GMM', 'Hierarchical']\n",
    "explode = (0.025, 0.025, 0.025)\n",
    "colors = ['orange', 'coral','green']\n",
    "fig1, ax1 = plt.subplots()\n",
    "ax1.pie(slices_hours, explode=explode,colors=colors, labels=activities, autopct='%1.1f%%',\n",
    "        shadow=True, startangle=120)\n",
    "ax1.axis('equal') \n",
    "plt.show()"
   ]
  },
  {
   "cell_type": "markdown",
   "metadata": {},
   "source": [
    "## b) 3-Layer Autoencoder with Linear Activation Function:-"
   ]
  },
  {
   "cell_type": "code",
   "execution_count": 15,
   "metadata": {},
   "outputs": [],
   "source": [
    "neural_network=Neural_Net(3, [29,14,29], [None,\"linear\",\"linear\"],\"mean_squared\",\"Linear_Activation\")"
   ]
  },
  {
   "cell_type": "code",
   "execution_count": 16,
   "metadata": {},
   "outputs": [
    {
     "data": {
      "text/plain": [
       "(24998, 29)"
      ]
     },
     "execution_count": 16,
     "metadata": {},
     "output_type": "execute_result"
    }
   ],
   "source": [
    "df1.values.shape"
   ]
  },
  {
   "cell_type": "code",
   "execution_count": 17,
   "metadata": {},
   "outputs": [
    {
     "name": "stdout",
     "output_type": "stream",
     "text": [
      "Iter 0 : 142.48136130408653\n",
      "Iter 1 : 74.68600829636104\n",
      "Iter 2 : 53.00231427084624\n",
      "Iter 3 : 40.586711912687576\n",
      "Iter 4 : 32.44383749038422\n",
      "Iter 5 : 26.698058476020822\n",
      "Iter 6 : 22.443087397500168\n",
      "Iter 7 : 19.180809422083602\n",
      "Iter 8 : 16.61286000845797\n",
      "Iter 9 : 14.549017468483637\n",
      "Iter 10 : 12.862087583737171\n",
      "Iter 11 : 11.463751524424639\n",
      "Iter 12 : 10.290775977313816\n",
      "Iter 13 : 9.296723124726045\n",
      "Iter 14 : 8.446751301378825\n",
      "Iter 15 : 7.714236219351158\n",
      "Iter 16 : 7.0785079551989405\n",
      "Iter 17 : 6.52329531654477\n",
      "Iter 18 : 6.035632025578928\n",
      "Iter 19 : 5.605072228048165\n",
      "Iter 20 : 5.223117916232841\n",
      "Iter 21 : 4.882794462403562\n",
      "Iter 22 : 4.578331530165517\n",
      "Iter 23 : 4.304920166652595\n",
      "Iter 24 : 4.05852576568691\n",
      "Iter 25 : 3.8357425435402805\n",
      "Iter 26 : 3.633679226547147\n",
      "Iter 27 : 3.4498684616143858\n",
      "Iter 28 : 3.2821944382854924\n",
      "Iter 29 : 3.1288346209091142\n",
      "Iter 30 : 2.98821250717336\n",
      "Iter 31 : 2.8589590723186005\n",
      "Iter 32 : 2.7398811065945816\n",
      "Iter 33 : 2.6299350620064827\n",
      "Iter 34 : 2.528205331496865\n",
      "Iter 35 : 2.433886116550486\n",
      "Iter 36 : 2.3462662171435618\n",
      "Iter 37 : 2.2647162149487876\n",
      "Iter 38 : 2.188677626916347\n",
      "Iter 39 : 2.117653689244459\n",
      "Iter 40 : 2.0512014968595547\n",
      "Iter 41 : 1.9889252749717514\n",
      "Iter 42 : 1.930470600157543\n",
      "Iter 43 : 1.8755194210959396\n",
      "Iter 44 : 1.8237857553349668\n",
      "Iter 45 : 1.775011959663151\n",
      "Iter 46 : 1.7289654888620951\n",
      "Iter 47 : 1.685436071640773\n",
      "Iter 48 : 1.644233244038572\n",
      "Iter 49 : 1.6051841900326749\n",
      "Iter 50 : 1.56813184689025\n",
      "Iter 51 : 1.5329332392791566\n",
      "Iter 52 : 1.4994580115400948\n",
      "Iter 53 : 1.4675871320268123\n",
      "Iter 54 : 1.4372117471976493\n",
      "Iter 55 : 1.4082321663196435\n",
      "Iter 56 : 1.3805569603291112\n",
      "Iter 57 : 1.3541021606642532\n",
      "Iter 58 : 1.3287905458145917\n",
      "Iter 59 : 1.3045510049750806\n",
      "Iter 60 : 1.2813179695958474\n",
      "Iter 61 : 1.2590309048197608\n",
      "Iter 62 : 1.2376338538308622\n",
      "Iter 63 : 1.2170750290236358\n",
      "Iter 64 : 1.1973064446674986\n",
      "Iter 65 : 1.1782835864015306\n",
      "Iter 66 : 1.1599651134662126\n",
      "Iter 67 : 1.1423125900749733\n",
      "Iter 68 : 1.1252902427593212\n",
      "Iter 69 : 1.1088647408965646\n",
      "Iter 70 : 1.0930049979562846\n",
      "Iter 71 : 1.077681991287508\n",
      "Iter 72 : 1.062868598518552\n",
      "Iter 73 : 1.0485394488604896\n",
      "Iter 74 : 1.0346707877974504\n",
      "Iter 75 : 1.021240353815786\n",
      "Iter 76 : 1.0082272659727338\n",
      "Iter 77 : 0.9956119212361346\n",
      "Iter 78 : 0.9833759006422356\n",
      "Iter 79 : 0.9715018834206194\n",
      "Iter 80 : 0.959973568325529\n",
      "Iter 81 : 0.9487756014927139\n",
      "Iter 82 : 0.9378935102117714\n",
      "Iter 83 : 0.9273136420667482\n",
      "Iter 84 : 0.9170231089536621\n",
      "Iter 85 : 0.9070097355332075\n",
      "Iter 86 : 0.8972620117211831\n",
      "Iter 87 : 0.8877690488585586\n",
      "Iter 88 : 0.8785205392382809\n",
      "Iter 89 : 0.8695067186973535\n",
      "Iter 90 : 0.8607183320107871\n",
      "Iter 91 : 0.852146600849183\n",
      "Iter 92 : 0.8437831940842302\n",
      "Iter 93 : 0.8356202002465992\n",
      "Iter 94 : 0.8276501019588527\n",
      "Iter 95 : 0.8198657521822998\n",
      "Iter 96 : 0.8122603521313562\n",
      "Iter 97 : 0.8048274307221994\n",
      "Iter 98 : 0.7975608254343779\n",
      "Iter 99 : 0.7904546644747679\n"
     ]
    }
   ],
   "source": [
    "neural_network.train_Neural_net(df1.values,100,0.0000001)"
   ]
  },
  {
   "cell_type": "code",
   "execution_count": 18,
   "metadata": {},
   "outputs": [
    {
     "data": {
      "text/plain": [
       "0.7904546644747679"
      ]
     },
     "execution_count": 18,
     "metadata": {},
     "output_type": "execute_result"
    }
   ],
   "source": [
    "neural_network.error"
   ]
  },
  {
   "cell_type": "code",
   "execution_count": 19,
   "metadata": {},
   "outputs": [
    {
     "data": {
      "text/html": [
       "<div>\n",
       "<style scoped>\n",
       "    .dataframe tbody tr th:only-of-type {\n",
       "        vertical-align: middle;\n",
       "    }\n",
       "\n",
       "    .dataframe tbody tr th {\n",
       "        vertical-align: top;\n",
       "    }\n",
       "\n",
       "    .dataframe thead th {\n",
       "        text-align: right;\n",
       "    }\n",
       "</style>\n",
       "<table border=\"1\" class=\"dataframe\">\n",
       "  <thead>\n",
       "    <tr style=\"text-align: right;\">\n",
       "      <th></th>\n",
       "      <th>duration</th>\n",
       "      <th>service</th>\n",
       "      <th>src_bytes</th>\n",
       "      <th>dst_bytes</th>\n",
       "      <th>hot</th>\n",
       "      <th>num_failed_logins</th>\n",
       "      <th>num_compromised</th>\n",
       "      <th>num_root</th>\n",
       "      <th>num_file_creations</th>\n",
       "      <th>num_access_files</th>\n",
       "      <th>...</th>\n",
       "      <th>dst_host_count</th>\n",
       "      <th>dst_host_srv_count</th>\n",
       "      <th>dst_host_same_srv_rate</th>\n",
       "      <th>dst_host_diff_srv_rate</th>\n",
       "      <th>dst_host_same_src_port_rate</th>\n",
       "      <th>dst_host_srv_diff_host_rate</th>\n",
       "      <th>dst_host_serror_rate</th>\n",
       "      <th>dst_host_srv_serror_rate</th>\n",
       "      <th>dst_host_rerror_rate</th>\n",
       "      <th>dst_host_srv_rerror_rate</th>\n",
       "    </tr>\n",
       "  </thead>\n",
       "  <tbody>\n",
       "    <tr>\n",
       "      <th>0</th>\n",
       "      <td>-0.114538</td>\n",
       "      <td>-0.425936</td>\n",
       "      <td>-0.010013</td>\n",
       "      <td>-0.034507</td>\n",
       "      <td>-0.090956</td>\n",
       "      <td>-0.026322</td>\n",
       "      <td>-0.021938</td>\n",
       "      <td>-0.021801</td>\n",
       "      <td>-0.027916</td>\n",
       "      <td>-0.044087</td>\n",
       "      <td>...</td>\n",
       "      <td>-1.690213</td>\n",
       "      <td>1.262872</td>\n",
       "      <td>1.067572</td>\n",
       "      <td>-0.441083</td>\n",
       "      <td>-0.253425</td>\n",
       "      <td>0.07103</td>\n",
       "      <td>-0.6395</td>\n",
       "      <td>-0.535332</td>\n",
       "      <td>-0.386077</td>\n",
       "      <td>-0.374982</td>\n",
       "    </tr>\n",
       "  </tbody>\n",
       "</table>\n",
       "<p>1 rows × 29 columns</p>\n",
       "</div>"
      ],
      "text/plain": [
       "   duration   service  src_bytes  dst_bytes       hot  num_failed_logins  \\\n",
       "0 -0.114538 -0.425936  -0.010013  -0.034507 -0.090956          -0.026322   \n",
       "\n",
       "   num_compromised  num_root  num_file_creations  num_access_files  ...  \\\n",
       "0        -0.021938 -0.021801           -0.027916         -0.044087  ...   \n",
       "\n",
       "   dst_host_count  dst_host_srv_count  dst_host_same_srv_rate  \\\n",
       "0       -1.690213            1.262872                1.067572   \n",
       "\n",
       "   dst_host_diff_srv_rate  dst_host_same_src_port_rate  \\\n",
       "0               -0.441083                    -0.253425   \n",
       "\n",
       "   dst_host_srv_diff_host_rate  dst_host_serror_rate  \\\n",
       "0                      0.07103               -0.6395   \n",
       "\n",
       "   dst_host_srv_serror_rate  dst_host_rerror_rate  dst_host_srv_rerror_rate  \n",
       "0                 -0.535332             -0.386077                 -0.374982  \n",
       "\n",
       "[1 rows x 29 columns]"
      ]
     },
     "execution_count": 19,
     "metadata": {},
     "output_type": "execute_result"
    }
   ],
   "source": [
    "df1.iloc[:1,:]"
   ]
  },
  {
   "cell_type": "code",
   "execution_count": 20,
   "metadata": {},
   "outputs": [
    {
     "data": {
      "text/plain": [
       "array([[ 0.82259755, -0.92205697, -0.43818968, -0.16058607,  0.49403215,\n",
       "         1.06618837, -0.33590128, -0.30321181,  1.49509252,  0.10308601,\n",
       "         0.38123248,  0.15003592, -0.73600002, -0.14416482, -0.63101231,\n",
       "        -0.38771991,  1.58142514, -1.37478043, -0.64091887, -2.38800437,\n",
       "         1.33962059, -0.3570911 ,  0.03261833, -0.60224323,  0.27899306,\n",
       "        -1.77499185, -1.95925155, -0.64696423,  0.36888362]])"
      ]
     },
     "execution_count": 20,
     "metadata": {},
     "output_type": "execute_result"
    }
   ],
   "source": [
    "neural_network.layers[-1].activations[:1,:]"
   ]
  },
  {
   "cell_type": "code",
   "execution_count": 21,
   "metadata": {},
   "outputs": [],
   "source": [
    "neural_network.forward_propagation(df1)"
   ]
  },
  {
   "cell_type": "code",
   "execution_count": 22,
   "metadata": {},
   "outputs": [
    {
     "data": {
      "text/plain": [
       "(24998, 14)"
      ]
     },
     "execution_count": 22,
     "metadata": {},
     "output_type": "execute_result"
    }
   ],
   "source": [
    "ans=neural_network.layers[1].activations\n",
    "ans.shape"
   ]
  },
  {
   "cell_type": "code",
   "execution_count": 23,
   "metadata": {},
   "outputs": [],
   "source": [
    "k=5\n",
    "n = ans.shape[0]\n",
    "c = ans.shape[1]\n",
    "mean = np.mean(ans, axis = 0)\n",
    "std = np.std(ans, axis = 0)\n",
    "centers = np.random.randn(k,c)*std + mean\n",
    "# plt.scatter(centers[:,0], centers[:,1], marker='*', c='r', s=150)"
   ]
  },
  {
   "cell_type": "code",
   "execution_count": 24,
   "metadata": {},
   "outputs": [
    {
     "name": "stdout",
     "output_type": "stream",
     "text": [
      "[3 4 3 ... 0 3 1]\n"
     ]
    }
   ],
   "source": [
    "from copy import deepcopy\n",
    "co = np.zeros(centers.shape)\n",
    "cn = deepcopy(centers) \n",
    "# ans.shape\n",
    "clusters = np.zeros(n)\n",
    "distances = np.zeros((n,k))\n",
    "marg = LA.norm(cn - co)\n",
    "while marg != 0:\n",
    "    for i in range(k):\n",
    "        distances[:,i] = LA.norm(ans - cn[i], axis=1)\n",
    "    clusters = np.argmin(distances, axis = 1)\n",
    "    co = deepcopy(cn)\n",
    "    for i in range(k):\n",
    "        cn[i] = np.mean(ans[clusters == i], axis=0)\n",
    "    marg = LA.norm(cn - co)\n",
    "# centers_new   \n",
    "# plt.scatter(cn[:,0], cn[:,1], marker='*', c='r', s=150)\n",
    "print(clusters)"
   ]
  },
  {
   "cell_type": "code",
   "execution_count": 25,
   "metadata": {},
   "outputs": [
    {
     "data": {
      "text/plain": [
       "24998"
      ]
     },
     "execution_count": 25,
     "metadata": {},
     "output_type": "execute_result"
    }
   ],
   "source": [
    "kmlist=[]\n",
    "for i in range(len(label)):\n",
    "    if label[i]=='dos':\n",
    "        kmlist.append(0)\n",
    "    if label[i]=='normal':\n",
    "        kmlist.append(1)\n",
    "    if label[i]=='probe':\n",
    "        kmlist.append(2)\n",
    "    if label[i]=='r2l':\n",
    "        kmlist.append(3)\n",
    "    if label[i]=='u2r':\n",
    "        kmlist.append(4)\n",
    "len(kmlist)"
   ]
  },
  {
   "cell_type": "code",
   "execution_count": 26,
   "metadata": {},
   "outputs": [
    {
     "name": "stdout",
     "output_type": "stream",
     "text": [
      "Purity of Cluster - 0 :  84.61538461538461\n",
      "Purity of Cluster - 1 :  81.23219373219374\n",
      "Purity of Cluster - 2 :  58.802104411169566\n",
      "Purity of Cluster - 3 :  87.44329367456989\n",
      "Purity of Cluster - 4 :  56.751142501038636\n"
     ]
    }
   ],
   "source": [
    "from sklearn.metrics.cluster import contingency_matrix\n",
    "res=contingency_matrix(clusters,kmlist)\n",
    "# print(res)\n",
    "for i,item in enumerate(res):\n",
    "    print(\"Purity of Cluster -\",i,\": \",max(item)*100/sum(item))"
   ]
  },
  {
   "cell_type": "code",
   "execution_count": 27,
   "metadata": {},
   "outputs": [
    {
     "name": "stdout",
     "output_type": "stream",
     "text": [
      "K-means Purity: 0.7956236498919914\n"
     ]
    }
   ],
   "source": [
    "pure=0\n",
    "for i in res:\n",
    "    pure+=max(i)\n",
    "#     print(max(i))\n",
    "A4=pure/len(label)\n",
    "print('K-means Purity:', A4)"
   ]
  },
  {
   "cell_type": "code",
   "execution_count": 28,
   "metadata": {},
   "outputs": [
    {
     "data": {
      "text/plain": [
       "array([0, 1, 2, 3, 4])"
      ]
     },
     "execution_count": 28,
     "metadata": {},
     "output_type": "execute_result"
    }
   ],
   "source": [
    "from sklearn.mixture import GaussianMixture\n",
    "GMM=GaussianMixture(n_components=5).fit(ans)\n",
    "gmmlabel=GMM.predict(ans)\n",
    "np.unique(gmmlabel)"
   ]
  },
  {
   "cell_type": "code",
   "execution_count": 29,
   "metadata": {},
   "outputs": [
    {
     "name": "stdout",
     "output_type": "stream",
     "text": [
      "Purity of Cluster - 0 :  87.79032048786817\n",
      "Purity of Cluster - 1 :  100.0\n",
      "Purity of Cluster - 2 :  86.8455497382199\n",
      "Purity of Cluster - 3 :  52.57563368765331\n",
      "Purity of Cluster - 4 :  47.57472704492572\n"
     ]
    }
   ],
   "source": [
    "res1=contingency_matrix(gmmlabel,kmlist)\n",
    "# print(res1)\n",
    "for i,item in enumerate(res1):\n",
    "    print(\"Purity of Cluster -\",i,\": \",max(item)*100/sum(item))"
   ]
  },
  {
   "cell_type": "code",
   "execution_count": 30,
   "metadata": {},
   "outputs": [
    {
     "name": "stdout",
     "output_type": "stream",
     "text": [
      "GMM Purity: 0.7827026162092967\n"
     ]
    }
   ],
   "source": [
    "pure1=0\n",
    "for i in res1:\n",
    "    pure1+=max(i)\n",
    "#     print(max(i))\n",
    "A5=pure1/len(label)\n",
    "print('GMM Purity:', A5)"
   ]
  },
  {
   "cell_type": "code",
   "execution_count": 31,
   "metadata": {},
   "outputs": [
    {
     "data": {
      "text/plain": [
       "array([0, 1, 2, 3, 4])"
      ]
     },
     "execution_count": 31,
     "metadata": {},
     "output_type": "execute_result"
    }
   ],
   "source": [
    "from sklearn.cluster import AgglomerativeClustering\n",
    "cc=AgglomerativeClustering(n_clusters=5,affinity='euclidean',linkage='single')\n",
    "aclabel=cc.fit_predict(ans)\n",
    "np.unique(aclabel)"
   ]
  },
  {
   "cell_type": "code",
   "execution_count": 32,
   "metadata": {},
   "outputs": [
    {
     "name": "stdout",
     "output_type": "stream",
     "text": [
      "Purity of Cluster - 0 :  53.46166159756683\n",
      "Purity of Cluster - 1 :  100.0\n",
      "Purity of Cluster - 2 :  66.66666666666667\n",
      "Purity of Cluster - 3 :  100.0\n",
      "Purity of Cluster - 4 :  100.0\n"
     ]
    }
   ],
   "source": [
    "res2=contingency_matrix(aclabel,kmlist)\n",
    "# print(res2)\n",
    "for i,item in enumerate(res2):\n",
    "    print(\"Purity of Cluster -\",i,\": \",max(item)*100/sum(item))"
   ]
  },
  {
   "cell_type": "code",
   "execution_count": 33,
   "metadata": {},
   "outputs": [
    {
     "name": "stdout",
     "output_type": "stream",
     "text": [
      "Hierarchical Purity: 0.5347227778222258\n"
     ]
    }
   ],
   "source": [
    "pure2=0\n",
    "for i in res2:\n",
    "    pure2+=max(i)\n",
    "#     print(max(i))\n",
    "A6=pure2/len(label)\n",
    "print('Hierarchical Purity:', A6)"
   ]
  },
  {
   "cell_type": "code",
   "execution_count": 34,
   "metadata": {},
   "outputs": [
    {
     "data": {
      "image/png": "[encoded data removed]",
      "text/plain": [
       "<Figure size 432x288 with 1 Axes>"
      ]
     },
     "metadata": {},
     "output_type": "display_data"
    }
   ],
   "source": [
    "import matplotlib.pyplot as plt\n",
    "slices_hours = [A4, A5, A6]\n",
    "activities = ['K-Means', 'GMM', 'Hierarchical']\n",
    "explode = (0.025, 0.025, 0.025)\n",
    "colors = ['orange', 'coral','green']\n",
    "fig1, ax1 = plt.subplots()\n",
    "ax1.pie(slices_hours, explode=explode,colors=colors, labels=activities, autopct='%1.1f%%',\n",
    "        shadow=True, startangle=120)\n",
    "ax1.axis('equal') \n",
    "plt.show()"
   ]
  },
  {
   "cell_type": "markdown",
   "metadata": {},
   "source": [
    "## c) Deep Autoencoders with 5 layers and Non-Linear Activation Function:-"
   ]
  },
  {
   "cell_type": "code",
   "execution_count": 35,
   "metadata": {},
   "outputs": [],
   "source": [
    "neural_network=Neural_Net(5, [29,21,14,21,29], [None,\"sigmoid\",\"sigmoid\",\"sigmoid\",\"sigmoid\"],\"mean_squared\",\"NonLinear_Activation\")"
   ]
  },
  {
   "cell_type": "code",
   "execution_count": 36,
   "metadata": {},
   "outputs": [
    {
     "data": {
      "text/plain": [
       "(24998, 29)"
      ]
     },
     "execution_count": 36,
     "metadata": {},
     "output_type": "execute_result"
    }
   ],
   "source": [
    "ds.shape\n",
    "# df1=df1[0:24000]\n",
    "df1.values.shape"
   ]
  },
  {
   "cell_type": "code",
   "execution_count": 37,
   "metadata": {
    "scrolled": true
   },
   "outputs": [
    {
     "name": "stdout",
     "output_type": "stream",
     "text": [
      "Iter 0 : 0.7800057715449265\n",
      "Iter 1 : 0.6620159200290255\n",
      "Iter 2 : 0.5824583640737169\n",
      "Iter 3 : 0.5179509705077892\n",
      "Iter 4 : 0.4941173758138934\n",
      "Iter 5 : 0.4837002949044003\n",
      "Iter 6 : 0.4763411090230239\n",
      "Iter 7 : 0.4673512233609452\n",
      "Iter 8 : 0.46172056464856914\n",
      "Iter 9 : 0.4576435061140682\n",
      "Iter 10 : 0.4549152127979187\n",
      "Iter 11 : 0.4527163045607994\n",
      "Iter 12 : 0.45086679294140114\n",
      "Iter 13 : 0.4491882692310288\n",
      "Iter 14 : 0.4475353104944117\n",
      "Iter 15 : 0.4457410769157139\n",
      "Iter 16 : 0.44346805864200955\n",
      "Iter 17 : 0.43968528110026905\n",
      "Iter 18 : 0.4321192872451022\n",
      "Iter 19 : 0.4255223293769934\n",
      "Iter 20 : 0.42287114261385333\n",
      "Iter 21 : 0.4203981435461164\n",
      "Iter 22 : 0.4173850650089229\n",
      "Iter 23 : 0.414264312783728\n",
      "Iter 24 : 0.41192830240421\n",
      "Iter 25 : 0.4100567761490797\n",
      "Iter 26 : 0.40846980907841623\n",
      "Iter 27 : 0.4070882932144601\n",
      "Iter 28 : 0.40586774296425876\n",
      "Iter 29 : 0.40477021861753154\n",
      "Iter 30 : 0.403771840963288\n",
      "Iter 31 : 0.4028547918160978\n",
      "Iter 32 : 0.40200595403197925\n",
      "Iter 33 : 0.4012150013187027\n",
      "Iter 34 : 0.40047384724886426\n",
      "Iter 35 : 0.3997758471758736\n",
      "Iter 36 : 0.3991154960679609\n",
      "Iter 37 : 0.39848808143265635\n",
      "Iter 38 : 0.39788950918366506\n",
      "Iter 39 : 0.3973161877895917\n",
      "Iter 40 : 0.39676507497106667\n",
      "Iter 41 : 0.3962336981915052\n",
      "Iter 42 : 0.3957198125840131\n",
      "Iter 43 : 0.39522119233330033\n",
      "Iter 44 : 0.39473577870147425\n",
      "Iter 45 : 0.3942617220007595\n",
      "Iter 46 : 0.39379789567228374\n",
      "Iter 47 : 0.393344485302803\n",
      "Iter 48 : 0.39290053202366654\n",
      "Iter 49 : 0.39246577972223706\n",
      "Iter 50 : 0.3920399600251681\n",
      "Iter 51 : 0.39162197368355717\n",
      "Iter 52 : 0.3912108055660713\n",
      "Iter 53 : 0.39080513797367117\n",
      "Iter 54 : 0.390403063262043\n",
      "Iter 55 : 0.3900018096036527\n",
      "Iter 56 : 0.3895973217564061\n",
      "Iter 57 : 0.38918396818440965\n",
      "Iter 58 : 0.38876234356628964\n",
      "Iter 59 : 0.38833271412039394\n",
      "Iter 60 : 0.38790424070991153\n",
      "Iter 61 : 0.38749421081513136\n",
      "Iter 62 : 0.38710812392868094\n",
      "Iter 63 : 0.3867384637131191\n",
      "Iter 64 : 0.38637812655794956\n",
      "Iter 65 : 0.386023841350357\n",
      "Iter 66 : 0.38567440995248453\n",
      "Iter 67 : 0.3853293362067997\n",
      "Iter 68 : 0.38498814812640014\n",
      "Iter 69 : 0.38465220841816367\n",
      "Iter 70 : 0.384324874717206\n",
      "Iter 71 : 0.3840051273409013\n",
      "Iter 72 : 0.38369147749335414\n",
      "Iter 73 : 0.3833822117748279\n",
      "Iter 74 : 0.38307509749236285\n",
      "Iter 75 : 0.38277462666314066\n",
      "Iter 76 : 0.3824804295582148\n",
      "Iter 77 : 0.3821843126260178\n",
      "Iter 78 : 0.3818678606657528\n",
      "Iter 79 : 0.3815796275439628\n",
      "Iter 80 : 0.3812964293629829\n",
      "Iter 81 : 0.3810168712585843\n",
      "Iter 82 : 0.38073954410774735\n",
      "Iter 83 : 0.38046429718917324\n",
      "Iter 84 : 0.3801915056992016\n",
      "Iter 85 : 0.3799218392183503\n",
      "Iter 86 : 0.37965603768767464\n",
      "Iter 87 : 0.3793947025496845\n",
      "Iter 88 : 0.3791381804941519\n",
      "Iter 89 : 0.3788865449760736\n",
      "Iter 90 : 0.3786396465668091\n",
      "Iter 91 : 0.37839716438614873\n",
      "Iter 92 : 0.37815859984418043\n",
      "Iter 93 : 0.37792303026942753\n",
      "Iter 94 : 0.37768754628117285\n",
      "Iter 95 : 0.37743780859421466\n",
      "Iter 96 : 0.377196454728103\n",
      "Iter 97 : 0.37697123725671583\n",
      "Iter 98 : 0.37675447430072684\n",
      "Iter 99 : 0.3765431856492171\n"
     ]
    }
   ],
   "source": [
    "neural_network.train_Neural_net(df1.values,100,0.0001)"
   ]
  },
  {
   "cell_type": "code",
   "execution_count": 38,
   "metadata": {},
   "outputs": [
    {
     "data": {
      "text/plain": [
       "0.3765431856492171"
      ]
     },
     "execution_count": 38,
     "metadata": {},
     "output_type": "execute_result"
    }
   ],
   "source": [
    "neural_network.error"
   ]
  },
  {
   "cell_type": "code",
   "execution_count": 39,
   "metadata": {},
   "outputs": [
    {
     "data": {
      "text/plain": [
       "(24998, 29)"
      ]
     },
     "execution_count": 39,
     "metadata": {},
     "output_type": "execute_result"
    }
   ],
   "source": [
    "neural_network.layers[-1].activations.shape"
   ]
  },
  {
   "cell_type": "markdown",
   "metadata": {},
   "source": [
    "### Saving weights and biases in Numpy files:-"
   ]
  },
  {
   "cell_type": "code",
   "execution_count": null,
   "metadata": {},
   "outputs": [],
   "source": [
    "# for i in range(neural_network.Layer_count):\n",
    "#     np.save('weight'+str(i)+'.npy',neural_network.layers[i].Layerwise_weights)\n",
    "#     np.save('bias'+str(i)+'.npy',neural_network.layers[i].Layerwise_bias)"
   ]
  },
  {
   "cell_type": "markdown",
   "metadata": {},
   "source": [
    "### Loading saved weights and biases from Numpy files:-"
   ]
  },
  {
   "cell_type": "code",
   "execution_count": null,
   "metadata": {},
   "outputs": [],
   "source": [
    "# for i in range(neural_network.Layer_count):\n",
    "#     neural_network.layers[i].Layerwise_weights = np.load('weight'+str(i)+'.npy')\n",
    "#     neural_network.layers[i].Layerwise_bias = np.load('bias'+str(i)+'.npy')"
   ]
  },
  {
   "cell_type": "code",
   "execution_count": 40,
   "metadata": {},
   "outputs": [
    {
     "data": {
      "text/plain": [
       "(24998, 29)"
      ]
     },
     "execution_count": 40,
     "metadata": {},
     "output_type": "execute_result"
    }
   ],
   "source": [
    "neural_network.layers[0].activations.shape"
   ]
  },
  {
   "cell_type": "code",
   "execution_count": 41,
   "metadata": {},
   "outputs": [
    {
     "data": {
      "text/plain": [
       "(24998, 29)"
      ]
     },
     "execution_count": 41,
     "metadata": {},
     "output_type": "execute_result"
    }
   ],
   "source": [
    "neural_network.layers[0].activations.shape"
   ]
  },
  {
   "cell_type": "code",
   "execution_count": 42,
   "metadata": {},
   "outputs": [],
   "source": [
    "# neural_network.layers[0].activations-neural_network.layers[-1].activations"
   ]
  },
  {
   "cell_type": "code",
   "execution_count": 43,
   "metadata": {},
   "outputs": [],
   "source": [
    "neural_network.forward_propagation(df1)"
   ]
  },
  {
   "cell_type": "code",
   "execution_count": 44,
   "metadata": {},
   "outputs": [],
   "source": [
    "ans=neural_network.layers[2].activations"
   ]
  },
  {
   "cell_type": "code",
   "execution_count": 45,
   "metadata": {},
   "outputs": [
    {
     "data": {
      "text/plain": [
       "(24998, 14)"
      ]
     },
     "execution_count": 45,
     "metadata": {},
     "output_type": "execute_result"
    }
   ],
   "source": [
    "ans.shape"
   ]
  },
  {
   "cell_type": "markdown",
   "metadata": {},
   "source": [
    "## Part 2 : K-Means Clustering:-"
   ]
  },
  {
   "cell_type": "code",
   "execution_count": 54,
   "metadata": {},
   "outputs": [],
   "source": [
    "k=5\n",
    "n = ans.shape[0]\n",
    "c = ans.shape[1]\n",
    "mean = np.mean(ans, axis = 0)\n",
    "std = np.std(ans, axis = 0)\n",
    "centers = np.random.randn(k,c)*std + mean\n",
    "# plt.scatter(centers[:,0], centers[:,1], marker='*', c='r', s=150)"
   ]
  },
  {
   "cell_type": "code",
   "execution_count": 55,
   "metadata": {},
   "outputs": [
    {
     "name": "stdout",
     "output_type": "stream",
     "text": [
      "[1 0 1 ... 3 2 4]\n"
     ]
    }
   ],
   "source": [
    "from copy import deepcopy\n",
    "co = np.zeros(centers.shape)\n",
    "cn = deepcopy(centers) \n",
    "# ans.shape\n",
    "clusters = np.zeros(n)\n",
    "distances = np.zeros((n,k))\n",
    "marg = LA.norm(cn - co)\n",
    "while marg != 0:\n",
    "    for i in range(k):\n",
    "        distances[:,i] = LA.norm(ans - cn[i], axis=1)\n",
    "    clusters = np.argmin(distances, axis = 1)\n",
    "    co = deepcopy(cn)\n",
    "    for i in range(k):\n",
    "        cn[i] = np.mean(ans[clusters == i], axis=0)\n",
    "    marg = LA.norm(cn - co)\n",
    "# centers_new   \n",
    "# plt.scatter(cn[:,0], cn[:,1], marker='*', c='r', s=150)\n",
    "print(clusters)"
   ]
  },
  {
   "cell_type": "code",
   "execution_count": 56,
   "metadata": {},
   "outputs": [
    {
     "data": {
      "text/plain": [
       "array([0, 1, 2, 3, 4])"
      ]
     },
     "execution_count": 56,
     "metadata": {},
     "output_type": "execute_result"
    }
   ],
   "source": [
    "np.unique(clusters)"
   ]
  },
  {
   "cell_type": "code",
   "execution_count": 57,
   "metadata": {},
   "outputs": [
    {
     "data": {
      "text/plain": [
       "24998"
      ]
     },
     "execution_count": 57,
     "metadata": {},
     "output_type": "execute_result"
    }
   ],
   "source": [
    "kmlist=[]\n",
    "for i in range(len(label)):\n",
    "    if label[i]=='dos':\n",
    "        kmlist.append(0)\n",
    "    if label[i]=='normal':\n",
    "        kmlist.append(1)\n",
    "    if label[i]=='probe':\n",
    "        kmlist.append(2)\n",
    "    if label[i]=='r2l':\n",
    "        kmlist.append(3)\n",
    "    if label[i]=='u2r':\n",
    "        kmlist.append(4)\n",
    "len(kmlist)"
   ]
  },
  {
   "cell_type": "code",
   "execution_count": 58,
   "metadata": {},
   "outputs": [
    {
     "name": "stdout",
     "output_type": "stream",
     "text": [
      "Purity of Cluster - 0 :  47.081043956043956\n",
      "Purity of Cluster - 1 :  92.9610829103215\n",
      "Purity of Cluster - 2 :  61.33177570093458\n",
      "Purity of Cluster - 3 :  80.58071390516783\n",
      "Purity of Cluster - 4 :  98.46354544136831\n"
     ]
    }
   ],
   "source": [
    "from sklearn.metrics.cluster import contingency_matrix\n",
    "res=contingency_matrix(clusters,kmlist)\n",
    "# print(res)\n",
    "for i,item in enumerate(res):\n",
    "    print(\"Purity of Cluster -\",i,\": \",max(item)*100/sum(item))"
   ]
  },
  {
   "cell_type": "code",
   "execution_count": 59,
   "metadata": {},
   "outputs": [
    {
     "name": "stdout",
     "output_type": "stream",
     "text": [
      "K-means Purity: 0.8402672213777103\n"
     ]
    }
   ],
   "source": [
    "pure=0\n",
    "for i in res:\n",
    "    pure+=max(i)\n",
    "#     print(max(i))\n",
    "A7=pure/len(label)\n",
    "print('K-means Purity:', A7)"
   ]
  },
  {
   "cell_type": "markdown",
   "metadata": {},
   "source": [
    "## Part 3 :  Gaussian Mixture Model (GMM):-"
   ]
  },
  {
   "cell_type": "code",
   "execution_count": 60,
   "metadata": {},
   "outputs": [
    {
     "data": {
      "text/plain": [
       "array([0, 1, 2, 3, 4])"
      ]
     },
     "execution_count": 60,
     "metadata": {},
     "output_type": "execute_result"
    }
   ],
   "source": [
    "from sklearn.mixture import GaussianMixture\n",
    "GMM=GaussianMixture(n_components=5).fit(ans)\n",
    "gmmlabel=GMM.predict(ans)\n",
    "np.unique(gmmlabel)"
   ]
  },
  {
   "cell_type": "code",
   "execution_count": 61,
   "metadata": {},
   "outputs": [
    {
     "name": "stdout",
     "output_type": "stream",
     "text": [
      "Purity of Cluster - 0 :  61.97440585009141\n",
      "Purity of Cluster - 1 :  100.0\n",
      "Purity of Cluster - 2 :  76.3317191283293\n",
      "Purity of Cluster - 3 :  99.9826659733056\n",
      "Purity of Cluster - 4 :  70.15503875968992\n"
     ]
    }
   ],
   "source": [
    "res1=contingency_matrix(gmmlabel,kmlist)\n",
    "# print(res1)\n",
    "for i,item in enumerate(res1):\n",
    "    print(\"Purity of Cluster -\",i,\": \",max(item)*100/sum(item))"
   ]
  },
  {
   "cell_type": "code",
   "execution_count": 62,
   "metadata": {},
   "outputs": [
    {
     "name": "stdout",
     "output_type": "stream",
     "text": [
      "GMM Purity: 0.8432274581966557\n"
     ]
    }
   ],
   "source": [
    "pure1=0\n",
    "for i in res1:\n",
    "    pure1+=max(i)\n",
    "#     print(max(i))\n",
    "A8=pure1/len(label)\n",
    "print('GMM Purity:', A8)"
   ]
  },
  {
   "cell_type": "markdown",
   "metadata": {},
   "source": [
    "## Part 4 :  Hierarchical Clustering:-"
   ]
  },
  {
   "cell_type": "code",
   "execution_count": 63,
   "metadata": {},
   "outputs": [
    {
     "data": {
      "text/plain": [
       "array([0, 1, 2, 3, 4])"
      ]
     },
     "execution_count": 63,
     "metadata": {},
     "output_type": "execute_result"
    }
   ],
   "source": [
    "from sklearn.cluster import AgglomerativeClustering\n",
    "cc=AgglomerativeClustering(n_clusters=5,affinity='euclidean',linkage='single')\n",
    "aclabel=cc.fit_predict(ans)\n",
    "np.unique(aclabel)"
   ]
  },
  {
   "cell_type": "code",
   "execution_count": 64,
   "metadata": {},
   "outputs": [
    {
     "name": "stdout",
     "output_type": "stream",
     "text": [
      "Purity of Cluster - 0 :  53.478226064681394\n",
      "Purity of Cluster - 1 :  100.0\n",
      "Purity of Cluster - 2 :  100.0\n",
      "Purity of Cluster - 3 :  100.0\n",
      "Purity of Cluster - 4 :  100.0\n"
     ]
    }
   ],
   "source": [
    "res2=contingency_matrix(aclabel,kmlist)\n",
    "# print(res2)\n",
    "for i,item in enumerate(res2):\n",
    "    print(\"Purity of Cluster -\",i,\": \",max(item)*100/sum(item))"
   ]
  },
  {
   "cell_type": "code",
   "execution_count": 65,
   "metadata": {},
   "outputs": [
    {
     "name": "stdout",
     "output_type": "stream",
     "text": [
      "Hierarchical Purity: 0.5350428034242739\n"
     ]
    }
   ],
   "source": [
    "pure2=0\n",
    "for i in res2:\n",
    "    pure2+=max(i)\n",
    "#     print(max(i))\n",
    "A9=pure2/len(label)\n",
    "print('Hierarchical Purity:', A9)"
   ]
  },
  {
   "cell_type": "markdown",
   "metadata": {},
   "source": [
    "## Part 5 :  Pie Chart (K-means v/s GMM v/s Hierarchical) :-"
   ]
  },
  {
   "cell_type": "code",
   "execution_count": 66,
   "metadata": {},
   "outputs": [
    {
     "data": {
      "image/png": "[encoded data removed]",
      "text/plain": [
       "<Figure size 432x288 with 1 Axes>"
      ]
     },
     "metadata": {},
     "output_type": "display_data"
    }
   ],
   "source": [
    "import matplotlib.pyplot as plt\n",
    "slices_hours = [A7, A8, A9]\n",
    "activities = ['K-Means', 'GMM', 'Hierarchical']\n",
    "explode = (0.025, 0.025, 0.025)\n",
    "colors = ['orange', 'coral','green']\n",
    "fig1, ax1 = plt.subplots()\n",
    "ax1.pie(slices_hours, explode=explode,colors=colors, labels=activities, autopct='%1.1f%%',\n",
    "        shadow=True, startangle=120)\n",
    "ax1.axis('equal') \n",
    "plt.show()"
   ]
  },
  {
   "cell_type": "code",
   "execution_count": null,
   "metadata": {},
   "outputs": [],
   "source": []
  }
 ],
 "metadata": {
  "kernelspec": {
   "display_name": "Python 3",
   "language": "python",
   "name": "python3"
  },
  "language_info": {
   "codemirror_mode": {
    "name": "ipython",
    "version": 3
   },
   "file_extension": ".py",
   "mimetype": "text/x-python",
   "name": "python",
   "nbconvert_exporter": "python",
   "pygments_lexer": "ipython3",
   "version": "3.6.7"
  }
 },
 "nbformat": 4,
 "nbformat_minor": 2
}
