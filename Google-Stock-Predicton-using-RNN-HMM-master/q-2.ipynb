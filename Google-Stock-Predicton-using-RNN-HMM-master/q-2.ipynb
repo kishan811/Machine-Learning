{
 "cells": [
  {
   "cell_type": "code",
   "execution_count": 74,
   "metadata": {},
   "outputs": [],
   "source": [
    "import math"
   ]
  },
  {
   "cell_type": "code",
   "execution_count": 75,
   "metadata": {},
   "outputs": [],
   "source": [
    "DNA=\"CTTCATGTGAAAGCAGACGTAAGTCA\"\n",
    "STATEPATH=\"EEEEEEEEEEEEEEEEEE5IIIIIII$\""
   ]
  },
  {
   "cell_type": "code",
   "execution_count": 76,
   "metadata": {},
   "outputs": [],
   "source": [
    "# for i in range(len(DNA)):\n",
    "#     print(DNA[i])"
   ]
  },
  {
   "cell_type": "code",
   "execution_count": 77,
   "metadata": {},
   "outputs": [
    {
     "name": "stdout",
     "output_type": "stream",
     "text": [
      "27\n"
     ]
    }
   ],
   "source": [
    "print(len(STATEPATH))"
   ]
  },
  {
   "cell_type": "code",
   "execution_count": 78,
   "metadata": {},
   "outputs": [],
   "source": [
    "res=1"
   ]
  },
  {
   "cell_type": "code",
   "execution_count": 79,
   "metadata": {},
   "outputs": [],
   "source": [
    "for i in range(len(DNA)):\n",
    "    if STATEPATH[i]==\"E\":\n",
    "        res*=0.25*0.9\n",
    "    if STATEPATH[i-1]==\"E\" and STATEPATH[i]==\"5\":\n",
    "        res*=0.1\n",
    "    if STATEPATH[i]==\"5\":\n",
    "        res*=0.95\n",
    "    if STATEPATH[i-1]==\"5\" and STATEPATH[i]==\"I\":\n",
    "        res*=1\n",
    "    if STATEPATH[i]==\"I\" and DNA[i]==\"T\":\n",
    "        res*=0.9*0.4\n",
    "    if STATEPATH[i]==\"I\" and DNA[i]==\"A\":\n",
    "        res*=0.9*0.4\n",
    "    if STATEPATH[i]==\"I\" and DNA[i]==\"G\":\n",
    "        res*=0.9*0.1\n",
    "    if STATEPATH[i]==\"I\" and DNA[i]==\"T\":\n",
    "        res*=0.9*0.1"
   ]
  },
  {
   "cell_type": "code",
   "execution_count": 85,
   "metadata": {},
   "outputs": [
    {
     "data": {
      "text/plain": [
       "9.146374158211573e-19"
      ]
     },
     "execution_count": 85,
     "metadata": {},
     "output_type": "execute_result"
    }
   ],
   "source": [
    "res"
   ]
  },
  {
   "cell_type": "code",
   "execution_count": 80,
   "metadata": {},
   "outputs": [],
   "source": [
    "ans=res/0.9"
   ]
  },
  {
   "cell_type": "code",
   "execution_count": 82,
   "metadata": {},
   "outputs": [],
   "source": [
    "output=math.log(ans)"
   ]
  },
  {
   "cell_type": "code",
   "execution_count": 84,
   "metadata": {},
   "outputs": [
    {
     "name": "stdout",
     "output_type": "stream",
     "text": [
      "Answer: -41.43039871733819\n"
     ]
    }
   ],
   "source": [
    "print(\"Answer:\",output)"
   ]
  },
  {
   "cell_type": "code",
   "execution_count": null,
   "metadata": {},
   "outputs": [],
   "source": []
  }
 ],
 "metadata": {
  "kernelspec": {
   "display_name": "Python 3",
   "language": "python",
   "name": "python3"
  },
  "language_info": {
   "codemirror_mode": {
    "name": "ipython",
    "version": 3
   },
   "file_extension": ".py",
   "mimetype": "text/x-python",
   "name": "python",
   "nbconvert_exporter": "python",
   "pygments_lexer": "ipython3",
   "version": "3.6.7"
  }
 },
 "nbformat": 4,
 "nbformat_minor": 2
}
